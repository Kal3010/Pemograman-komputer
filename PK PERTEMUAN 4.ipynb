{
 "cells": [
  {
   "cell_type": "markdown",
   "metadata": {},
   "source": [
    "# PERTEMUAN 4"
   ]
  },
  {
   "cell_type": "markdown",
   "metadata": {},
   "source": [
    "# Kontruksi IF THEN"
   ]
  },
  {
   "cell_type": "code",
   "execution_count": 9,
   "metadata": {},
   "outputs": [
    {
     "name": "stdout",
     "output_type": "stream",
     "text": [
      "(angka)adalah bilangan GENAP\n"
     ]
    }
   ],
   "source": [
    "angka = int(input(\"Masukkan angka\"))\n",
    "\n",
    "if angka % 2 == 0:\n",
    "    print(f\"(angka)adalah bilangan GENAP\")\n"
   ]
  },
  {
   "cell_type": "markdown",
   "metadata": {},
   "source": [
    "# Kontruksi IF THEN ELSE"
   ]
  },
  {
   "cell_type": "code",
   "execution_count": 1,
   "metadata": {},
   "outputs": [
    {
     "name": "stdout",
     "output_type": "stream",
     "text": [
      "1990 bukan tahun kabisat\n"
     ]
    }
   ],
   "source": [
    "tahun = int(input(\"Masukkan tahun\"))\n",
    "\n",
    "if (tahun % 4 == 0 and tahun % 100 != 0) or (tahun % 400 == 0):\n",
    "    print(f\"{tahun} adalah tahun kabisat\")\n",
    "else:\n",
    "    print(f\"{tahun} bukan tahun kabisat\")    "
   ]
  },
  {
   "cell_type": "code",
   "execution_count": 22,
   "metadata": {},
   "outputs": [
    {
     "name": "stdout",
     "output_type": "stream",
     "text": [
      "1990 bukan tahun kabisat\n"
     ]
    }
   ],
   "source": [
    "match tahun:\n",
    "    case int if (tahun % 4 == 0 and tahun % 100 != 0) | (tahun % 400 == 0):\n",
    "        print(f\"{tahun} adalah tahun kabisat\")\n",
    "    case _:\n",
    "        print(f\"{tahun} bukan tahun kabisat\")    "
   ]
  },
  {
   "cell_type": "markdown",
   "metadata": {},
   "source": [
    "# Kontruksi ELIF"
   ]
  },
  {
   "cell_type": "code",
   "execution_count": 5,
   "metadata": {},
   "outputs": [
    {
     "name": "stdout",
     "output_type": "stream",
     "text": [
      "10 / 5 = 2.0\n"
     ]
    }
   ],
   "source": [
    "bil1 = int(input(\"Masukkan angka ke 1\"))\n",
    "bil2 = int(input(\"Masukkan angka ke 2\"))\n",
    "operator = input(\"Masukkan operasi yang di inginkan (+, -, *, /)\")\n",
    "\n",
    "if operator == \"+\":\n",
    "    hasil = bil1 + bil2\n",
    "    print(f\"{bil1} + {bil2} = {hasil}\")\n",
    "elif operator == \"-\":\n",
    "    hasil = bil1 - bil2   \n",
    "    print(f\"{bil1} - {bil2} = {hasil}\")\n",
    "elif operator == \"*\":\n",
    "    hasil = bil1 * bil2  \n",
    "    print(f\"{bil1} * {bil2} = {hasil}\")\n",
    "elif operator == \"/\":\n",
    "    hasil = bil1 / bil2\n",
    "    print(F\"{bil1} / {bil2} = {hasil}\")       "
   ]
  }
 ],
 "metadata": {
  "kernelspec": {
   "display_name": "Python 3",
   "language": "python",
   "name": "python3"
  },
  "language_info": {
   "codemirror_mode": {
    "name": "ipython",
    "version": 3
   },
   "file_extension": ".py",
   "mimetype": "text/x-python",
   "name": "python",
   "nbconvert_exporter": "python",
   "pygments_lexer": "ipython3",
   "version": "3.12.2"
  }
 },
 "nbformat": 4,
 "nbformat_minor": 2
}

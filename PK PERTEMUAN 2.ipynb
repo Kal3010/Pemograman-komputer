{
 "cells": [
  {
   "cell_type": "markdown",
   "metadata": {},
   "source": [
    "# PERTEMUAN 2"
   ]
  },
  {
   "cell_type": "code",
   "execution_count": null,
   "metadata": {},
   "outputs": [
    {
     "name": "stdout",
     "output_type": "stream",
     "text": [
      "Haikal <class 'str'>\n",
      "20 <class 'int'>\n",
      "3.01 <class 'float'>\n",
      "[50, 70, 100] <class 'list'>\n",
      "('Nonton', 'Travelling', 'Tidur') <class 'tuple'>\n",
      "{'mobil mobilan': 'hitam', '4446': 1} <class 'dict'>\n"
     ]
    },
    {
     "name": "stdout",
     "output_type": "stream",
     "text": [
      "Haikal <class 'str'>\n",
      "20 <class 'int'>\n",
      "3.01 <class 'float'>\n",
      "[50, 70, 100] <class 'list'>\n",
      "('Nonton', 'Travelling', 'Tidur') <class 'tuple'>\n",
      "{'mobil mobilan': 'hitam', '4446': 1} <class 'dict'>\n"
     ]
    }
   ],
   "source": [
    "nama=\"Haikal\"\n",
    "umur=20\n",
    "ipk=3.01\n",
    "nilai=[50,70,100]\n",
    "hobi=(\"Nonton\",\"Travelling\",\"Tidur\")\n",
    "mobil={'mobil mobilan':'hitam','4446':1}\n",
    "\n",
    "print(nama,type(nama))\n",
    "print(umur,type(umur))\n",
    "print(ipk,type(ipk))\n",
    "print(nilai,type(nilai))\n",
    "print(hobi,type(hobi))\n",
    "print(mobil,type(mobil))\n"
   ]
  },
  {
   "cell_type": "markdown",
   "metadata": {},
   "source": []
  },
  {
   "cell_type": "code",
   "execution_count": 7,
   "metadata": {},
   "outputs": [
    {
     "name": "stdout",
     "output_type": "stream",
     "text": [
      "a+b= 17\n",
      "a-b= -3\n",
      "a*b= 70\n",
      "a/b= 0\n",
      "a%b= 7\n"
     ]
    }
   ],
   "source": [
    "a=int(input(\"a adalah\"))\n",
    "b=int(input(\"b adalah\"))\n",
    "\n",
    "penjumlahan = a + b\n",
    "pengurangan = a - b \n",
    "perkalian = a * b \n",
    "pembagian = a // b \n",
    "modulus = a % b \n",
    "\n",
    "print(\"a+b=\",penjumlahan)\n",
    "print(\"a-b=\",pengurangan)\n",
    "print(\"a*b=\",perkalian)\n",
    "print(\"a/b=\",pembagian)\n",
    "print(\"a%b=\",modulus)"
   ]
  },
  {
   "cell_type": "code",
   "execution_count": 8,
   "metadata": {},
   "outputs": [
    {
     "name": "stdout",
     "output_type": "stream",
     "text": [
      "False\n",
      "True\n",
      "False\n",
      "True\n",
      "False\n",
      "True\n"
     ]
    }
   ],
   "source": [
    "A = 7\n",
    "B = 10\n",
    "\n",
    "print(A == B)\n",
    "print(A != B)\n",
    "print(A > B)\n",
    "print(A < B)\n",
    "print(A >= B)\n",
    "print(A <= B)"
   ]
  },
  {
   "cell_type": "markdown",
   "metadata": {},
   "source": [
    "# OPERATOR LOGIKA"
   ]
  },
  {
   "cell_type": "code",
   "execution_count": 9,
   "metadata": {},
   "outputs": [
    {
     "name": "stdout",
     "output_type": "stream",
     "text": [
      "True\n",
      "True\n",
      "True\n"
     ]
    }
   ],
   "source": [
    "a = 2\n",
    "b = 1\n",
    "c = 5\n",
    "\n",
    "print((a > b) and (c > b))\n",
    "print((a > b) or (c > b))\n",
    "print(not(b>b))"
   ]
  }
 ],
 "metadata": {
  "kernelspec": {
   "display_name": "Python 3",
   "language": "python",
   "name": "python3"
  },
  "language_info": {
   "codemirror_mode": {
    "name": "ipython",
    "version": 3
   },
   "file_extension": ".py",
   "mimetype": "text/x-python",
   "name": "python",
   "nbconvert_exporter": "python",
   "pygments_lexer": "ipython3",
   "version": "3.12.2"
  }
 },
 "nbformat": 4,
 "nbformat_minor": 2
}
